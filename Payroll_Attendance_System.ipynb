{
 "cells": [
  {
   "cell_type": "markdown",
   "metadata": {},
   "source": [
    "# Payroll and Attendance System\n",
    "This notebook demonstrates basic operations of the payroll system."
   ]
  },
  {
   "cell_type": "code",
   "execution_count": null,
   "metadata": {},
   "outputs": [],
   "source": [
    "from payroll_system.db import init_db, get_session, add_employee, Employee\n",
    "init_db()\n",
    "with get_session() as session:\n",
    "    emp_id = add_employee(session, name='Demo User', aadhar_number='123456789012')\n",
    "    print('Added', emp_id)"
   ]
  }
 ],
 "metadata": {
  "kernelspec": {
   "display_name": "Python 3",
   "language": "python",
   "name": "python3"
  },
  "language_info": {
   "name": "python",
   "version": "3"
  }
 },
 "nbformat": 4,
 "nbformat_minor": 5
}

